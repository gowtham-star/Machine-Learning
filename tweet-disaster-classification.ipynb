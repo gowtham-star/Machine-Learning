{
 "cells": [
  {
   "cell_type": "code",
   "execution_count": 1,
   "metadata": {
    "_cell_guid": "b1076dfc-b9ad-4769-8c92-a6c4dae69d19",
    "_uuid": "8f2839f25d086af736a60e9eeb907d3b93b6e0e5",
    "execution": {
     "iopub.execute_input": "2020-11-15T11:30:42.675042Z",
     "iopub.status.busy": "2020-11-15T11:30:42.662474Z",
     "iopub.status.idle": "2020-11-15T11:30:42.679176Z",
     "shell.execute_reply": "2020-11-15T11:30:42.675854Z"
    },
    "papermill": {
     "duration": 0.049162,
     "end_time": "2020-11-15T11:30:42.679479",
     "exception": false,
     "start_time": "2020-11-15T11:30:42.630317",
     "status": "completed"
    },
    "tags": []
   },
   "outputs": [
    {
     "name": "stdout",
     "output_type": "stream",
     "text": [
      "/kaggle/input/nlp-getting-started/train.csv\n",
      "/kaggle/input/nlp-getting-started/test.csv\n",
      "/kaggle/input/nlp-getting-started/sample_submission.csv\n"
     ]
    }
   ],
   "source": [
    "# This Python 3 environment comes with many helpful analytics libraries installed\n",
    "# It is defined by the kaggle/python Docker image: https://github.com/kaggle/docker-python\n",
    "# For example, here's several helpful packages to load\n",
    "\n",
    "import numpy as np # linear algebra\n",
    "import pandas as pd # data processing, CSV file I/O (e.g. pd.read_csv)\n",
    "\n",
    "# Input data files are available in the read-only \"../input/\" directory\n",
    "# For example, running this (by clicking run or pressing Shift+Enter) will list all files under the input directory\n",
    "\n",
    "import os\n",
    "for dirname, _, filenames in os.walk('/kaggle/input'):\n",
    "    for filename in filenames:\n",
    "        print(os.path.join(dirname, filename))\n",
    "\n",
    "# You can write up to 20GB to the current directory (/kaggle/working/) that gets preserved as output when you create a version using \"Save & Run All\" \n",
    "# You can also write temporary files to /kaggle/temp/, but they won't be saved outside of the current session"
   ]
  },
  {
   "cell_type": "code",
   "execution_count": 2,
   "metadata": {
    "_cell_guid": "79c7e3d0-c299-4dcb-8224-4455121ee9b0",
    "_uuid": "d629ff2d2480ee46fbb7e2d37f6b5fab8052498a",
    "execution": {
     "iopub.execute_input": "2020-11-15T11:30:42.716762Z",
     "iopub.status.busy": "2020-11-15T11:30:42.715629Z",
     "iopub.status.idle": "2020-11-15T11:30:42.789937Z",
     "shell.execute_reply": "2020-11-15T11:30:42.788870Z"
    },
    "papermill": {
     "duration": 0.095826,
     "end_time": "2020-11-15T11:30:42.790111",
     "exception": false,
     "start_time": "2020-11-15T11:30:42.694285",
     "status": "completed"
    },
    "tags": []
   },
   "outputs": [],
   "source": [
    "df_csv = pd.read_csv(\"/kaggle/input/nlp-getting-started/train.csv\")"
   ]
  },
  {
   "cell_type": "code",
   "execution_count": 3,
   "metadata": {
    "execution": {
     "iopub.execute_input": "2020-11-15T11:30:42.824504Z",
     "iopub.status.busy": "2020-11-15T11:30:42.823420Z",
     "iopub.status.idle": "2020-11-15T11:30:44.581155Z",
     "shell.execute_reply": "2020-11-15T11:30:44.580282Z"
    },
    "papermill": {
     "duration": 1.775483,
     "end_time": "2020-11-15T11:30:44.581288",
     "exception": false,
     "start_time": "2020-11-15T11:30:42.805805",
     "status": "completed"
    },
    "tags": []
   },
   "outputs": [],
   "source": [
    "from sklearn.model_selection import train_test_split\n",
    "from sklearn.linear_model import LogisticRegression\n",
    "from sklearn.feature_extraction.text import CountVectorizer,TfidfVectorizer\n"
   ]
  },
  {
   "cell_type": "code",
   "execution_count": 4,
   "metadata": {
    "execution": {
     "iopub.execute_input": "2020-11-15T11:30:44.620199Z",
     "iopub.status.busy": "2020-11-15T11:30:44.619325Z",
     "iopub.status.idle": "2020-11-15T11:30:44.629424Z",
     "shell.execute_reply": "2020-11-15T11:30:44.628695Z"
    },
    "papermill": {
     "duration": 0.03656,
     "end_time": "2020-11-15T11:30:44.629564",
     "exception": false,
     "start_time": "2020-11-15T11:30:44.593004",
     "status": "completed"
    },
    "tags": []
   },
   "outputs": [],
   "source": [
    "#split the data \n",
    "training_data, testing_data = train_test_split(df_csv,random_state = 2000)"
   ]
  },
  {
   "cell_type": "code",
   "execution_count": 5,
   "metadata": {
    "execution": {
     "iopub.execute_input": "2020-11-15T11:30:44.661727Z",
     "iopub.status.busy": "2020-11-15T11:30:44.660774Z",
     "iopub.status.idle": "2020-11-15T11:30:44.664144Z",
     "shell.execute_reply": "2020-11-15T11:30:44.663529Z"
    },
    "papermill": {
     "duration": 0.022634,
     "end_time": "2020-11-15T11:30:44.664274",
     "exception": false,
     "start_time": "2020-11-15T11:30:44.641640",
     "status": "completed"
    },
    "tags": []
   },
   "outputs": [],
   "source": [
    "# GET LABELS\n",
    "Y_train=training_data['target'].values\n",
    "Y_test=testing_data['target'].values"
   ]
  },
  {
   "cell_type": "code",
   "execution_count": 6,
   "metadata": {
    "execution": {
     "iopub.execute_input": "2020-11-15T11:30:44.710199Z",
     "iopub.status.busy": "2020-11-15T11:30:44.709073Z",
     "iopub.status.idle": "2020-11-15T11:30:44.712491Z",
     "shell.execute_reply": "2020-11-15T11:30:44.711511Z"
    },
    "papermill": {
     "duration": 0.03613,
     "end_time": "2020-11-15T11:30:44.712660",
     "exception": false,
     "start_time": "2020-11-15T11:30:44.676530",
     "status": "completed"
    },
    "tags": []
   },
   "outputs": [],
   "source": [
    "def extract_features(df,field,training_data,testing_data,type=\"binary\"):\n",
    "    \"\"\"Extract features using different methods\"\"\"\n",
    "    \n",
    "    if \"binary\" in type:\n",
    "        \n",
    "        # BINARY FEATURE REPRESENTATION\n",
    "        cv= CountVectorizer(binary=True, max_df=0.5)\n",
    "        cv.fit_transform(training_data[field].values)\n",
    "        \n",
    "        train_feature_set=cv.transform(training_data[field].values)\n",
    "        test_feature_set=cv.transform(testing_data[field].values)\n",
    "        \n",
    "        return train_feature_set,test_feature_set,cv\n",
    "  \n",
    "    elif \"counts\" in type:\n",
    "        \n",
    "        # COUNT BASED FEATURE REPRESENTATION\n",
    "        cv= CountVectorizer(binary=False, max_df=0.95)\n",
    "        cv.fit_transform(training_data[field].values)\n",
    "        \n",
    "        train_feature_set=cv.transform(training_data[field].values)\n",
    "        test_feature_set=cv.transform(testing_data[field].values)\n",
    "        \n",
    "        return train_feature_set,test_feature_set,cv\n",
    "    \n",
    "    else:    \n",
    "        \n",
    "        # TF-IDF BASED FEATURE REPRESENTATION\n",
    "        tfidf_vectorizer=TfidfVectorizer(use_idf=True, max_df=0.95)\n",
    "        tfidf_vectorizer.fit_transform(training_data[field].values)\n",
    "        \n",
    "        train_feature_set=tfidf_vectorizer.transform(training_data[field].values)\n",
    "        test_feature_set=tfidf_vectorizer.transform(testing_data[field].values)\n",
    "        \n",
    "        return train_feature_set,test_feature_set,tfidf_vectorizer"
   ]
  },
  {
   "cell_type": "code",
   "execution_count": null,
   "metadata": {
    "papermill": {
     "duration": 0.01683,
     "end_time": "2020-11-15T11:30:44.745506",
     "exception": false,
     "start_time": "2020-11-15T11:30:44.728676",
     "status": "completed"
    },
    "tags": []
   },
   "outputs": [],
   "source": []
  },
  {
   "cell_type": "code",
   "execution_count": 7,
   "metadata": {
    "execution": {
     "iopub.execute_input": "2020-11-15T11:30:44.787672Z",
     "iopub.status.busy": "2020-11-15T11:30:44.782519Z",
     "iopub.status.idle": "2020-11-15T11:30:45.315840Z",
     "shell.execute_reply": "2020-11-15T11:30:45.316777Z"
    },
    "papermill": {
     "duration": 0.556076,
     "end_time": "2020-11-15T11:30:45.317018",
     "exception": false,
     "start_time": "2020-11-15T11:30:44.760942",
     "status": "completed"
    },
    "tags": []
   },
   "outputs": [],
   "source": [
    "X_train,X_test,feature_transformer=extract_features(df_csv,\"text\",training_data,testing_data,type=\"binary\")"
   ]
  },
  {
   "cell_type": "code",
   "execution_count": 8,
   "metadata": {
    "execution": {
     "iopub.execute_input": "2020-11-15T11:30:45.367246Z",
     "iopub.status.busy": "2020-11-15T11:30:45.364487Z",
     "iopub.status.idle": "2020-11-15T11:30:45.655048Z",
     "shell.execute_reply": "2020-11-15T11:30:45.654046Z"
    },
    "papermill": {
     "duration": 0.321033,
     "end_time": "2020-11-15T11:30:45.655232",
     "exception": false,
     "start_time": "2020-11-15T11:30:45.334199",
     "status": "completed"
    },
    "tags": []
   },
   "outputs": [
    {
     "name": "stdout",
     "output_type": "stream",
     "text": [
      "[LibLinear]"
     ]
    }
   ],
   "source": [
    "scikit_log_reg = LogisticRegression(verbose=1, solver='liblinear',random_state=0, C=2, penalty='l2',max_iter=10000)\n",
    "model=scikit_log_reg.fit(X_train,Y_train)"
   ]
  },
  {
   "cell_type": "code",
   "execution_count": 9,
   "metadata": {
    "execution": {
     "iopub.execute_input": "2020-11-15T11:30:45.702917Z",
     "iopub.status.busy": "2020-11-15T11:30:45.698989Z",
     "iopub.status.idle": "2020-11-15T11:30:45.707462Z",
     "shell.execute_reply": "2020-11-15T11:30:45.708431Z"
    },
    "papermill": {
     "duration": 0.034157,
     "end_time": "2020-11-15T11:30:45.708652",
     "exception": false,
     "start_time": "2020-11-15T11:30:45.674495",
     "status": "completed"
    },
    "tags": []
   },
   "outputs": [
    {
     "data": {
      "text/plain": [
       "0.7909663865546218"
      ]
     },
     "execution_count": 9,
     "metadata": {},
     "output_type": "execute_result"
    }
   ],
   "source": [
    "model.score(X_test, Y_test)"
   ]
  },
  {
   "cell_type": "code",
   "execution_count": 10,
   "metadata": {
    "execution": {
     "iopub.execute_input": "2020-11-15T11:30:45.757215Z",
     "iopub.status.busy": "2020-11-15T11:30:45.756136Z",
     "iopub.status.idle": "2020-11-15T11:30:45.760027Z",
     "shell.execute_reply": "2020-11-15T11:30:45.761132Z"
    },
    "papermill": {
     "duration": 0.03285,
     "end_time": "2020-11-15T11:30:45.761438",
     "exception": false,
     "start_time": "2020-11-15T11:30:45.728588",
     "status": "completed"
    },
    "tags": []
   },
   "outputs": [
    {
     "data": {
      "text/plain": [
       "array([1])"
      ]
     },
     "execution_count": 10,
     "metadata": {},
     "output_type": "execute_result"
    }
   ],
   "source": [
    "model.predict(feature_transformer.transform([\"Arsonist Sets NYC Vegetarian Restaurant on Fire: Police #NewYork - http://t.co/Nr7usT3uh8\"]))"
   ]
  },
  {
   "cell_type": "code",
   "execution_count": 11,
   "metadata": {
    "execution": {
     "iopub.execute_input": "2020-11-15T11:30:45.808353Z",
     "iopub.status.busy": "2020-11-15T11:30:45.807093Z",
     "iopub.status.idle": "2020-11-15T11:30:45.813611Z",
     "shell.execute_reply": "2020-11-15T11:30:45.812601Z"
    },
    "papermill": {
     "duration": 0.032282,
     "end_time": "2020-11-15T11:30:45.813780",
     "exception": false,
     "start_time": "2020-11-15T11:30:45.781498",
     "status": "completed"
    },
    "tags": []
   },
   "outputs": [
    {
     "data": {
      "text/plain": [
       "array([0, 1])"
      ]
     },
     "execution_count": 11,
     "metadata": {},
     "output_type": "execute_result"
    }
   ],
   "source": [
    "model.classes_"
   ]
  }
 ],
 "metadata": {
  "kernelspec": {
   "display_name": "Python 3",
   "language": "python",
   "name": "python3"
  },
  "language_info": {
   "codemirror_mode": {
    "name": "ipython",
    "version": 3
   },
   "file_extension": ".py",
   "mimetype": "text/x-python",
   "name": "python",
   "nbconvert_exporter": "python",
   "pygments_lexer": "ipython3",
   "version": "3.7.6"
  },
  "papermill": {
   "duration": 9.400287,
   "end_time": "2020-11-15T11:30:45.950471",
   "environment_variables": {},
   "exception": null,
   "input_path": "__notebook__.ipynb",
   "output_path": "__notebook__.ipynb",
   "parameters": {},
   "start_time": "2020-11-15T11:30:36.550184",
   "version": "2.1.0"
  }
 },
 "nbformat": 4,
 "nbformat_minor": 4
}
